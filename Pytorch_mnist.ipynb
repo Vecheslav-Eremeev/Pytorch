{
  "nbformat": 4,
  "nbformat_minor": 0,
  "metadata": {
    "colab": {
      "name": "Pytorch mnist",
      "provenance": [],
      "collapsed_sections": [],
      "authorship_tag": "ABX9TyO7rEXTa2ArwN6iB6qqejvq",
      "include_colab_link": true
    },
    "kernelspec": {
      "name": "python3",
      "display_name": "Python 3"
    },
    "language_info": {
      "name": "python"
    },
    "accelerator": "GPU"
  },
  "cells": [
    {
      "cell_type": "markdown",
      "metadata": {
        "id": "view-in-github",
        "colab_type": "text"
      },
      "source": [
        "<a href=\"https://colab.research.google.com/github/Vecheslav-Eremeev/Torch/blob/main/Pytorch_mnist.ipynb\" target=\"_parent\"><img src=\"https://colab.research.google.com/assets/colab-badge.svg\" alt=\"Open In Colab\"/></a>"
      ]
    },
    {
      "cell_type": "markdown",
      "source": [
        "Imports"
      ],
      "metadata": {
        "id": "-w4ZsA0seaq-"
      }
    },
    {
      "cell_type": "code",
      "execution_count": 18,
      "metadata": {
        "id": "zrshPQA3eUjX"
      },
      "outputs": [],
      "source": [
        "import warnings\n",
        "warnings.filterwarnings('ignore')"
      ]
    },
    {
      "cell_type": "code",
      "source": [
        "import numpy as np\n",
        "import pandas as pd\n",
        "\n",
        "from sklearn.metrics import accuracy_score\n",
        "\n",
        "from keras.datasets import mnist\n",
        "\n",
        "import torch\n",
        "import torch.nn as nn"
      ],
      "metadata": {
        "id": "Z0zj02IgeeB0"
      },
      "execution_count": 19,
      "outputs": []
    },
    {
      "cell_type": "markdown",
      "source": [
        "Load Data"
      ],
      "metadata": {
        "id": "NhIVdhe8fKEM"
      }
    },
    {
      "cell_type": "code",
      "source": [
        "(X_train, y_train), (X_test, y_test) = mnist.load_data()"
      ],
      "metadata": {
        "colab": {
          "base_uri": "https://localhost:8080/"
        },
        "id": "0a_LshSHfHXE",
        "outputId": "cc202699-980f-4b03-b27e-00c42267b7d7"
      },
      "execution_count": 3,
      "outputs": [
        {
          "output_type": "stream",
          "name": "stdout",
          "text": [
            "Downloading data from https://storage.googleapis.com/tensorflow/tf-keras-datasets/mnist.npz\n",
            "11493376/11490434 [==============================] - 0s 0us/step\n",
            "11501568/11490434 [==============================] - 0s 0us/step\n"
          ]
        }
      ]
    },
    {
      "cell_type": "code",
      "source": [
        "X_train.shape, y_train.shape"
      ],
      "metadata": {
        "colab": {
          "base_uri": "https://localhost:8080/"
        },
        "id": "lRMILtfbfhYj",
        "outputId": "295346c6-6bb4-485f-d1c1-cf9e387422a4"
      },
      "execution_count": 4,
      "outputs": [
        {
          "output_type": "execute_result",
          "data": {
            "text/plain": [
              "((60000, 28, 28), (60000,))"
            ]
          },
          "metadata": {},
          "execution_count": 4
        }
      ]
    },
    {
      "cell_type": "code",
      "source": [
        "X_test.shape, y_test.shape"
      ],
      "metadata": {
        "colab": {
          "base_uri": "https://localhost:8080/"
        },
        "id": "ZEaWVWMdfmMU",
        "outputId": "4998bc6d-1dec-4893-ef09-b0dd4b629398"
      },
      "execution_count": 5,
      "outputs": [
        {
          "output_type": "execute_result",
          "data": {
            "text/plain": [
              "((10000, 28, 28), (10000,))"
            ]
          },
          "metadata": {},
          "execution_count": 5
        }
      ]
    },
    {
      "cell_type": "code",
      "source": [
        "X_train = torch.from_numpy(np.array(X_train).reshape(-1,1,28,28)).float()\n",
        "y_train = torch.from_numpy(np.array(y_train)).long()"
      ],
      "metadata": {
        "id": "SSSX-VTMfpt0"
      },
      "execution_count": 6,
      "outputs": []
    },
    {
      "cell_type": "code",
      "source": [
        "train_dataset = torch.utils.data.TensorDataset(X_train, y_train)\n",
        "train_loader = torch.utils.data.DataLoader(train_dataset, batch_size=128, shuffle=True)"
      ],
      "metadata": {
        "id": "sApYB5fFgWr8"
      },
      "execution_count": 7,
      "outputs": []
    },
    {
      "cell_type": "markdown",
      "source": [
        "Train Model"
      ],
      "metadata": {
        "id": "5T-uIGCCgclc"
      }
    },
    {
      "cell_type": "code",
      "source": [
        "class Image_class(nn.Module):\n",
        "    def __init__(self):\n",
        "        super().__init__()\n",
        "        self.network = nn.Sequential(\n",
        "            nn.Conv2d(1, 28, kernel_size=3, stride=1, padding=1),\n",
        "            nn.ReLU(),\n",
        "            nn.Conv2d(28, 64, kernel_size=3, stride=1, padding=1),\n",
        "            nn.ReLU(),\n",
        "            nn.MaxPool2d(2,2),\n",
        "            nn.Conv2d(64, 128, kernel_size=3, stride=1, padding=1),\n",
        "            nn.Flatten(),\n",
        "            nn.Linear(128 * 14 * 14, 128),\n",
        "            nn.Dropout(0.3),\n",
        "            nn.Linear(128, 10)\n",
        "        )\n",
        "    \n",
        "    def forward(self, x):\n",
        "        return self.network(x)"
      ],
      "metadata": {
        "id": "ePvvqAUHgbgE"
      },
      "execution_count": 8,
      "outputs": []
    },
    {
      "cell_type": "code",
      "source": [
        "model = Image_class()\n",
        "model"
      ],
      "metadata": {
        "colab": {
          "base_uri": "https://localhost:8080/"
        },
        "id": "qp6Qa6vxgnmE",
        "outputId": "43beaa30-1181-4762-fbd4-797dbd910544"
      },
      "execution_count": 9,
      "outputs": [
        {
          "output_type": "execute_result",
          "data": {
            "text/plain": [
              "Image_class(\n",
              "  (network): Sequential(\n",
              "    (0): Conv2d(1, 28, kernel_size=(3, 3), stride=(1, 1), padding=(1, 1))\n",
              "    (1): ReLU()\n",
              "    (2): Conv2d(28, 64, kernel_size=(3, 3), stride=(1, 1), padding=(1, 1))\n",
              "    (3): ReLU()\n",
              "    (4): MaxPool2d(kernel_size=2, stride=2, padding=0, dilation=1, ceil_mode=False)\n",
              "    (5): Conv2d(64, 128, kernel_size=(3, 3), stride=(1, 1), padding=(1, 1))\n",
              "    (6): Flatten(start_dim=1, end_dim=-1)\n",
              "    (7): Linear(in_features=25088, out_features=128, bias=True)\n",
              "    (8): Dropout(p=0.3, inplace=False)\n",
              "    (9): Linear(in_features=128, out_features=10, bias=True)\n",
              "  )\n",
              ")"
            ]
          },
          "metadata": {},
          "execution_count": 9
        }
      ]
    },
    {
      "cell_type": "code",
      "source": [
        "optimazer = torch.optim.Adam(model.parameters(), lr=1e-5)\n",
        "loss = nn.CrossEntropyLoss()"
      ],
      "metadata": {
        "id": "XWkvSdSogrBT"
      },
      "execution_count": 10,
      "outputs": []
    },
    {
      "cell_type": "code",
      "source": [
        "if torch.cuda.is_available():\n",
        "    model = model.cuda()"
      ],
      "metadata": {
        "id": "6UGePVTxg0W0"
      },
      "execution_count": 11,
      "outputs": []
    },
    {
      "cell_type": "code",
      "source": [
        "epochs = 40"
      ],
      "metadata": {
        "id": "8Wn5rsZkg2a8"
      },
      "execution_count": 12,
      "outputs": []
    },
    {
      "cell_type": "code",
      "source": [
        "for epoch in range(epochs):\n",
        "    score = 0\n",
        "    for batch in train_loader:\n",
        "        X, y = batch\n",
        "        if torch.cuda.is_available():\n",
        "            X = X.cuda()\n",
        "            y = y.cuda()\n",
        "        model.train()\n",
        "        out = model(X)\n",
        "        y_loss = loss(out, y)\n",
        "        model.zero_grad()\n",
        "        y_loss.backward()\n",
        "        optimazer.step()\n",
        "        _, pred = torch.max(out, axis=1)\n",
        "        score += (pred == y).sum()\n",
        "    accuracy = score / len(X_train)\n",
        "    print(\"{}/{} Epochs | Train Loss={:.4f} |Accuracy={:.4f}\".format(epoch+1,epochs,y_loss,accuracy))"
      ],
      "metadata": {
        "colab": {
          "base_uri": "https://localhost:8080/"
        },
        "id": "hbEC6GlLg5Ds",
        "outputId": "a71b5ecd-1d21-4be5-e142-fb97d5d4b00e"
      },
      "execution_count": 13,
      "outputs": [
        {
          "output_type": "stream",
          "name": "stdout",
          "text": [
            "1/40 Epochs | Train Loss=0.2000 |Accuracy=0.8759\n",
            "2/40 Epochs | Train Loss=0.2979 |Accuracy=0.9483\n",
            "3/40 Epochs | Train Loss=0.0910 |Accuracy=0.9658\n",
            "4/40 Epochs | Train Loss=0.0842 |Accuracy=0.9737\n",
            "5/40 Epochs | Train Loss=0.0595 |Accuracy=0.9777\n",
            "6/40 Epochs | Train Loss=0.0579 |Accuracy=0.9809\n",
            "7/40 Epochs | Train Loss=0.0083 |Accuracy=0.9828\n",
            "8/40 Epochs | Train Loss=0.0143 |Accuracy=0.9855\n",
            "9/40 Epochs | Train Loss=0.0357 |Accuracy=0.9865\n",
            "10/40 Epochs | Train Loss=0.0165 |Accuracy=0.9878\n",
            "11/40 Epochs | Train Loss=0.0470 |Accuracy=0.9894\n",
            "12/40 Epochs | Train Loss=0.0110 |Accuracy=0.9909\n",
            "13/40 Epochs | Train Loss=0.0083 |Accuracy=0.9913\n",
            "14/40 Epochs | Train Loss=0.0300 |Accuracy=0.9921\n",
            "15/40 Epochs | Train Loss=0.1154 |Accuracy=0.9934\n",
            "16/40 Epochs | Train Loss=0.0174 |Accuracy=0.9938\n",
            "17/40 Epochs | Train Loss=0.0317 |Accuracy=0.9944\n",
            "18/40 Epochs | Train Loss=0.0184 |Accuracy=0.9945\n",
            "19/40 Epochs | Train Loss=0.0036 |Accuracy=0.9956\n",
            "20/40 Epochs | Train Loss=0.0203 |Accuracy=0.9962\n",
            "21/40 Epochs | Train Loss=0.0184 |Accuracy=0.9963\n",
            "22/40 Epochs | Train Loss=0.0168 |Accuracy=0.9959\n",
            "23/40 Epochs | Train Loss=0.0029 |Accuracy=0.9968\n",
            "24/40 Epochs | Train Loss=0.0050 |Accuracy=0.9975\n",
            "25/40 Epochs | Train Loss=0.0029 |Accuracy=0.9973\n",
            "26/40 Epochs | Train Loss=0.0237 |Accuracy=0.9977\n",
            "27/40 Epochs | Train Loss=0.0242 |Accuracy=0.9977\n",
            "28/40 Epochs | Train Loss=0.0004 |Accuracy=0.9980\n",
            "29/40 Epochs | Train Loss=0.0029 |Accuracy=0.9984\n",
            "30/40 Epochs | Train Loss=0.0021 |Accuracy=0.9985\n",
            "31/40 Epochs | Train Loss=0.0008 |Accuracy=0.9982\n",
            "32/40 Epochs | Train Loss=0.0077 |Accuracy=0.9987\n",
            "33/40 Epochs | Train Loss=0.0013 |Accuracy=0.9987\n",
            "34/40 Epochs | Train Loss=0.0044 |Accuracy=0.9985\n",
            "35/40 Epochs | Train Loss=0.0055 |Accuracy=0.9988\n",
            "36/40 Epochs | Train Loss=0.0009 |Accuracy=0.9989\n",
            "37/40 Epochs | Train Loss=0.0037 |Accuracy=0.9990\n",
            "38/40 Epochs | Train Loss=0.0002 |Accuracy=0.9985\n",
            "39/40 Epochs | Train Loss=0.0043 |Accuracy=0.9990\n",
            "40/40 Epochs | Train Loss=0.0002 |Accuracy=0.9992\n"
          ]
        }
      ]
    },
    {
      "cell_type": "code",
      "source": [
        "pred = []\n",
        "for i in range(len(X_test)):\n",
        "    img = X_test[i,:]\n",
        "    img = img.reshape(1,1,28,28)\n",
        "    img = torch.from_numpy(img).float()\n",
        "    model.eval()\n",
        "    if torch.cuda.is_available():\n",
        "        img = img.cuda()\n",
        "    output = model(img)\n",
        "    _, predict = torch.max(output, 1)\n",
        "    pred.append(predict.item())"
      ],
      "metadata": {
        "id": "4YMQWW3Sg-zd"
      },
      "execution_count": 14,
      "outputs": []
    },
    {
      "cell_type": "code",
      "source": [
        "accuracy_score(y_test, np.array(pred))"
      ],
      "metadata": {
        "colab": {
          "base_uri": "https://localhost:8080/"
        },
        "id": "mFF1of8Uj9lH",
        "outputId": "cca69924-0a56-4c69-d988-8df50cda144c"
      },
      "execution_count": 16,
      "outputs": [
        {
          "output_type": "execute_result",
          "data": {
            "text/plain": [
              "0.9879"
            ]
          },
          "metadata": {},
          "execution_count": 16
        }
      ]
    },
    {
      "cell_type": "code",
      "source": [
        ""
      ],
      "metadata": {
        "id": "eihYU3PwkC5H"
      },
      "execution_count": null,
      "outputs": []
    }
  ]
}